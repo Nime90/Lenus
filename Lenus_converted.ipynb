{
 "cells": [
  {
   "cell_type": "code",
   "execution_count": null,
   "metadata": {},
   "outputs": [],
   "source": [
    "#importing relevant lybraries\n",
    "import pandas as pd\n",
    "import matplotlib.pyplot as plt\n",
    "pd.set_option('display.max_rows', 500) #in order to better look at results\n",
    "\n",
    "#importing data\n",
    "data=pd.read_csv('customer_data_sample.csv')\n"
   ]
  },
  {
   "cell_type": "code",
   "execution_count": null,
   "metadata": {},
   "outputs": [],
   "source": [
    "data[data['age']<1]"
   ]
  },
  {
   "cell_type": "code",
   "execution_count": null,
   "metadata": {},
   "outputs": [],
   "source": [
    "#Step0: looking at the data\n",
    "data.head()\n",
    "data.tail()"
   ]
  },
  {
   "cell_type": "code",
   "execution_count": null,
   "metadata": {},
   "outputs": [],
   "source": [
    "data.branch.unique()\n",
    "data.gender.unique()"
   ]
  },
  {
   "cell_type": "code",
   "execution_count": null,
   "metadata": {},
   "outputs": [],
   "source": [
    "#converting gender and branch into a numerical value:\n",
    "female=[]\n",
    "for g in data.gender:\n",
    "    if g=='female': female.append(1)\n",
    "    else: female.append(0)\n",
    "data['female']=female\n",
    "\n",
    "branch_n=[]\n",
    "for b in data.branch:\n",
    "    if b=='Helsinki': branch_n.append(0)\n",
    "    elif b=='Tampere': branch_n.append(1)\n",
    "    elif b=='Turku': branch_n.append(2)\n",
    "    else: branch_n.append(None)\n",
    "\n",
    "data['branch_n']=branch_n"
   ]
  },
  {
   "cell_type": "code",
   "execution_count": null,
   "metadata": {},
   "outputs": [],
   "source": [
    "data.tail()"
   ]
  },
  {
   "cell_type": "code",
   "execution_count": null,
   "metadata": {},
   "outputs": [],
   "source": [
    "data.info()"
   ]
  },
  {
   "cell_type": "code",
   "execution_count": null,
   "metadata": {},
   "outputs": [],
   "source": [
    "data.describe()"
   ]
  },
  {
   "cell_type": "code",
   "execution_count": null,
   "metadata": {},
   "outputs": [],
   "source": [
    "data.age.unique()\n",
    "#Something is wrong with the Ages"
   ]
  },
  {
   "cell_type": "markdown",
   "metadata": {},
   "source": [
    "From these few observation i think it is needed some cleaning of the variable \"age\".\n",
    "\n",
    "According to danish law, \"The Danish government recently passed legislation that prohibits the collection and processing of personal data belonging to children below the age of 13\" (https://www.jurist.org/news/2023/06/denmark-to-raise-age-at-which-tech-companies-can-collect-minors-data/). \n",
    "Among them there are 7 whose values is lower than 1 (e.g. age=0.42) that may be a typing mistake and few more where the age of the customer would lead me to think about a wrong informatoin e.g. age=2 or age=4. Those have the highest frequencies - 10 each."
   ]
  },
  {
   "cell_type": "code",
   "execution_count": null,
   "metadata": {},
   "outputs": [],
   "source": [
    "data_age=data[data['age']<13]\n",
    "data_age.groupby('age')['customer_id'].count()"
   ]
  },
  {
   "cell_type": "code",
   "execution_count": null,
   "metadata": {},
   "outputs": [],
   "source": [
    "sum(data_age.groupby('age')['customer_id'].count())"
   ]
  },
  {
   "cell_type": "markdown",
   "metadata": {},
   "source": [
    "OBSERVATIONS:\n",
    "No additional information on the ages at this point.\n",
    "\n",
    "We have overall 38% of conversion rate and the customers have less than 30 years. On average one person has 2 customers (see 'Related customer' variable). majority of customers seems to have 0 family_size. on average the initial_fee_level is 64.4"
   ]
  },
  {
   "cell_type": "code",
   "execution_count": null,
   "metadata": {},
   "outputs": [],
   "source": [
    "data.initial_fee_level.unique()[:10]\n",
    "#initial fee level seems to be quite volatile as variable. there is no additional information on the trace. But it looks a bit suspicious."
   ]
  },
  {
   "cell_type": "code",
   "execution_count": null,
   "metadata": {},
   "outputs": [],
   "source": [
    "#checking nulls\n",
    "data.isnull().sum()"
   ]
  },
  {
   "cell_type": "code",
   "execution_count": null,
   "metadata": {},
   "outputs": [],
   "source": [
    "#Cleaning data form the \"suspicious ages\"\n",
    "data_clean=data#[data['age']>13]\n",
    "#dropping duplicates\n",
    "data_clean=data_clean.drop_duplicates()\n",
    "#dropping empty cells\n",
    "data_clean=data_clean.dropna()\n",
    "#rounding the age into an integer\n",
    "age_r=[int(a) for a in data_clean.age]\n",
    "data_clean['age_r']=age_r\n",
    "#cleaning the index\n",
    "data_clean.reset_index(inplace=True, drop=True)\n"
   ]
  },
  {
   "cell_type": "code",
   "execution_count": null,
   "metadata": {},
   "outputs": [],
   "source": [
    "#checking new data\n",
    "data_clean.nunique()"
   ]
  },
  {
   "cell_type": "code",
   "execution_count": null,
   "metadata": {},
   "outputs": [],
   "source": [
    "data_clean.describe()"
   ]
  },
  {
   "cell_type": "code",
   "execution_count": null,
   "metadata": {},
   "outputs": [],
   "source": [
    "data_clean.groupby('credit_account_id')['customer_id'].count()\n",
    "data.groupby('credit_account_id')['customer_id'].count()\n",
    "\n",
    "credit_account_id_d=[]\n",
    "for c in data_clean['credit_account_id']:\n",
    "    if c=='9b2d5b4678781e53038e91ea5324530a03f27dc1d0e5f6c9bc9d493a23be9de0':\n",
    "        credit_account_id_d.append(1)\n",
    "    else:\n",
    "        credit_account_id_d.append(0)\n",
    "data_clean['credit_account_id_dummy']=credit_account_id_d"
   ]
  },
  {
   "cell_type": "markdown",
   "metadata": {},
   "source": [
    "OBSERVATIONS:\n",
    "Changes seems not to affect deeply the averages of the variables (excluding age for obvious reasons)\n",
    "\n",
    "Dropping the nempty cells and the duplicates (and cleaning for the age<13) we lost 250 observation (around 28% of the data). A deeper knowledge of the nature of the data itself could lead me to do not delete and try to save some of it. Given the current situation i prefer continuing with the analysis of the 641 \"clean\" data. \n",
    "\n",
    "9b2d5b4678781e53038e91ea5324530a03f27dc1d0e5f6c9bc9d493a23be9de0  had  687 observation. after cleaning it went down to 469. (218 out of the lost 250). I will create a dummy variable where 1 indicated the id above with the majority of observations and 0 all the others ids."
   ]
  },
  {
   "cell_type": "markdown",
   "metadata": {},
   "source": [
    "Before proceeding I will make a quick check of the other variables in the dataset"
   ]
  },
  {
   "cell_type": "code",
   "execution_count": null,
   "metadata": {},
   "outputs": [],
   "source": [
    "#Checking variables\n",
    "data_clean.groupby('family_size')['customer_id'].count()\n",
    "data_clean.groupby('customer_id')['customer_id'].count()\n",
    "data_clean.groupby('converted')['customer_id'].count()\n",
    "data_clean.groupby('customer_segment')['customer_id'].count()\n",
    "data_clean.groupby('related_customers')['customer_id'].count()\n",
    "data_clean.groupby('family_size')['customer_id'].count()\n",
    "data_clean.groupby('initial_fee_level')['customer_id'].count()\n",
    "data_clean.groupby('female')['customer_id'].count()\n",
    "data_clean.groupby('branch_n')['customer_id'].count()\n",
    "data_clean.groupby('credit_account_id_dummy')['customer_id'].count()\n",
    "print('ok')\n"
   ]
  },
  {
   "cell_type": "markdown",
   "metadata": {},
   "source": [
    "Observations:\n",
    "vast majority of the customers are in segment 13 (306). seg 11=180 and seg 12=155.\n",
    "\n",
    "Most of the customer has 0 People related to them (not sure about the meaning of this varible) 0=450, 1=162, 2=19, 3=5, 4=3, 5=2\n",
    "\n",
    "Mos of family members are 0. 0=515, 1=74, 2=37, 3=5, 4=4, 5=5, 6=1\n",
    "\n",
    "initial fee level seems to be quite volatile as variable. there is no additional information on the trace. But it looks a bit suspicious.\n",
    "\n",
    "Most of the customer is male 416 vs 225\n",
    "\n",
    "Most of the customers are in Helsinki=499. Tampere=118, Turku=24 \n"
   ]
  },
  {
   "cell_type": "code",
   "execution_count": null,
   "metadata": {},
   "outputs": [],
   "source": []
  },
  {
   "cell_type": "markdown",
   "metadata": {},
   "source": [
    "WE CAN NOW START OUR ANALYSIS\n",
    "\n",
    "having the information above in mind\n"
   ]
  },
  {
   "cell_type": "code",
   "execution_count": null,
   "metadata": {},
   "outputs": [],
   "source": [
    "import seaborn as sns\n",
    "sns.set_style(\"whitegrid\")\n",
    "sns.pairplot(data_clean)"
   ]
  },
  {
   "cell_type": "code",
   "execution_count": null,
   "metadata": {},
   "outputs": [],
   "source": [
    "sns.countplot(data=data_clean, x='converted')\n",
    "plt.rcParams['figure.figsize'] = [10,3]"
   ]
  },
  {
   "cell_type": "code",
   "execution_count": null,
   "metadata": {},
   "outputs": [],
   "source": [
    "sns.countplot(data=data_clean, x='age_r', hue='converted')\n",
    "plt.rcParams['figure.figsize'] = [100,7]"
   ]
  },
  {
   "cell_type": "code",
   "execution_count": null,
   "metadata": {},
   "outputs": [],
   "source": [
    "sns.countplot(data=data_clean, x='initial_fee_level', color='blue', linewidth=1)\n",
    "plt.rcParams['figure.figsize'] = [100,20]"
   ]
  },
  {
   "cell_type": "code",
   "execution_count": null,
   "metadata": {},
   "outputs": [],
   "source": [
    "sns.countplot(data=data_clean, x='initial_fee_level', hue='converted')\n",
    "plt.rcParams['figure.figsize'] = [100,20]"
   ]
  },
  {
   "cell_type": "code",
   "execution_count": null,
   "metadata": {},
   "outputs": [],
   "source": [
    "sns.countplot(data=data_clean, x='customer_segment', color='blue')\n",
    "plt.rcParams['figure.figsize'] = [10,3]"
   ]
  },
  {
   "cell_type": "code",
   "execution_count": null,
   "metadata": {},
   "outputs": [],
   "source": [
    "sns.countplot(data=data_clean, x='customer_segment',hue='converted')"
   ]
  },
  {
   "cell_type": "code",
   "execution_count": null,
   "metadata": {},
   "outputs": [],
   "source": [
    "sns.countplot(data=data_clean, x='branch', color='blue')\n"
   ]
  },
  {
   "cell_type": "code",
   "execution_count": null,
   "metadata": {},
   "outputs": [],
   "source": [
    "sns.countplot(data=data_clean, x='branch',hue='converted')\n"
   ]
  },
  {
   "cell_type": "code",
   "execution_count": null,
   "metadata": {},
   "outputs": [],
   "source": [
    "sns.countplot(data=data_clean, x='gender', color='blue')\n",
    "#plt.xticks(ticks=[0, 1], labels=['Male', 'Female'])"
   ]
  },
  {
   "cell_type": "code",
   "execution_count": null,
   "metadata": {},
   "outputs": [],
   "source": [
    "sns.countplot(data=data_clean, x='gender',hue='converted')"
   ]
  },
  {
   "cell_type": "code",
   "execution_count": null,
   "metadata": {},
   "outputs": [],
   "source": [
    "sns.countplot(data=data_clean, x='related_customers',color='blue')"
   ]
  },
  {
   "cell_type": "code",
   "execution_count": null,
   "metadata": {},
   "outputs": [],
   "source": [
    "sns.countplot(data=data_clean, x='related_customers',hue='converted')"
   ]
  },
  {
   "cell_type": "code",
   "execution_count": null,
   "metadata": {},
   "outputs": [],
   "source": [
    "sns.countplot(data=data_clean, x='family_size',color='blue')"
   ]
  },
  {
   "cell_type": "code",
   "execution_count": null,
   "metadata": {},
   "outputs": [],
   "source": [
    "sns.countplot(data=data_clean, x='family_size',hue='converted')"
   ]
  },
  {
   "cell_type": "code",
   "execution_count": null,
   "metadata": {},
   "outputs": [],
   "source": [
    "sns.countplot(data=data_clean, x='credit_account_id_dummy',color='blue')"
   ]
  },
  {
   "cell_type": "code",
   "execution_count": null,
   "metadata": {},
   "outputs": [],
   "source": [
    "sns.countplot(data=data_clean, x='credit_account_id_dummy',hue='converted')"
   ]
  },
  {
   "cell_type": "code",
   "execution_count": null,
   "metadata": {},
   "outputs": [],
   "source": [
    "# Graphing correlation between columns\n",
    "sns.heatmap(data_clean.corr(), annot=True, cmap='coolwarm', linewidths=.5)\n",
    "plt.rcParams['figure.figsize'] = [30, 10]\n"
   ]
  },
  {
   "cell_type": "code",
   "execution_count": null,
   "metadata": {},
   "outputs": [],
   "source": [
    "sns.countplot(data=data_clean, x='credit_account_id_dummy',hue='customer_segment')"
   ]
  },
  {
   "cell_type": "markdown",
   "metadata": {},
   "source": [
    "Observations:\n",
    "from the correlation table we can conclude that there is a mmoderate correlation between the gender and the converted variable. specifically, female seems to increase the probability to convert compared to male.\n",
    "\n",
    "A mild positive correlation seems to exists between te variable converted and the variable \"initial_fee_level\". Nameling increasing the initial fee level, increase the probability to convert.\n",
    "\n",
    "A mild negative correlation exist with the customer segment. Segment 11 seems to increase the probability to convert customers compared to segment 12 and expecially 13. I have no further information on the customer segment, therefore it is hard to draw conclusions with this.\n",
    "\n",
    "A strong correlation exists between the Customer segment and the credit account they have. it looks like that segment 11 is almost never in the residual category of the credit account_ids. just the opposite for the other two segments.\n",
    "This imply a mild negative correlation between the credit_account_id and the converted variable."
   ]
  },
  {
   "cell_type": "code",
   "execution_count": null,
   "metadata": {},
   "outputs": [],
   "source": [
    "# Graphing correlation between columns\n",
    "sns.heatmap(data_clean[['converted','female','initial_fee_level','customer_segment','credit_account_id_dummy' ]].corr(), annot=True, cmap='coolwarm', linewidths=.5)\n",
    "plt.rcParams['figure.figsize'] = [20, 7]\n",
    "plt.show()"
   ]
  },
  {
   "cell_type": "code",
   "execution_count": null,
   "metadata": {},
   "outputs": [],
   "source": [
    "sns.countplot(data=data_clean, x='gender',hue='converted')"
   ]
  },
  {
   "cell_type": "code",
   "execution_count": null,
   "metadata": {},
   "outputs": [],
   "source": [
    "sns.countplot(data=data_clean, x='customer_segment',hue='converted')"
   ]
  },
  {
   "cell_type": "code",
   "execution_count": null,
   "metadata": {},
   "outputs": [],
   "source": [
    "sns.countplot(data=data_clean, x='credit_account_id_dummy',hue='converted')"
   ]
  },
  {
   "cell_type": "markdown",
   "metadata": {},
   "source": [
    "\"What are the most important factors for predicting whether a customer has converted or not?\"\n",
    "\n",
    "In order to find the relevant factors I need to look at the nature of the problem and it´s component.\n",
    "we are trying to understand how much the probability of an event to happen (converted or not) given the behaviour of the other variables (independent variables).\n",
    "\n",
    "The nature of the dependent variable is categorical (dicotomical) and the nature of the dependent variables is different for each variable (categorical and/or interval (continuos), since we are dealing with different variables.) \n",
    "\n",
    "litterature* suggests to use a multiple logistic regression to identify the variable that best explain the probability to convert.\n",
    "\n",
    "*https://stats.oarc.ucla.edu/other/mult-pkg/whatstat/; https://stats.oarc.ucla.edu/spss/whatstat/what-statistical-analysis-should-i-usestatistical-analyses-using-spss/#logistic\n"
   ]
  },
  {
   "cell_type": "code",
   "execution_count": null,
   "metadata": {},
   "outputs": [],
   "source": [
    "#make the dataset ready to the analysis\n",
    "df=data_clean[['customer_id','converted','female','age_r','initial_fee_level','credit_account_id_dummy']]\n",
    "df.head()"
   ]
  },
  {
   "cell_type": "code",
   "execution_count": null,
   "metadata": {},
   "outputs": [],
   "source": [
    "variables=['customer_segment','related_customers','family_size','branch']\n",
    "for v in variables:\n",
    "    temp=pd.get_dummies(data_clean[v], prefix=v)\n",
    "    for c in temp.columns:\n",
    "        df[c]=temp[c]"
   ]
  },
  {
   "cell_type": "code",
   "execution_count": null,
   "metadata": {},
   "outputs": [],
   "source": [
    "df.columns"
   ]
  },
  {
   "cell_type": "code",
   "execution_count": null,
   "metadata": {},
   "outputs": [],
   "source": [
    "#Logistic regression\n",
    "import pandas as pd\n",
    "from sklearn.model_selection import train_test_split\n",
    "from sklearn.linear_model import LogisticRegression\n",
    "from sklearn.metrics import accuracy_score, classification_report\n",
    "\n",
    "# Split data into features (X) and target variable (y)\n",
    "X = df.drop('converted', axis=1)  # Features\n",
    "y = df['converted']  # Target variable\n",
    "\n",
    "# Split data into train and test sets\n",
    "X_train, X_test, y_train, y_test = train_test_split(X, y, test_size=0.3, random_state=42)\n",
    "\n",
    "# Initialize logistic regression model\n",
    "logreg = LogisticRegression()\n",
    "\n",
    "# Fit the model on the training data\n",
    "logreg.fit(X_train, y_train)\n",
    "\n",
    "# Predict on the test data\n",
    "y_pred = logreg.predict(X_test)\n",
    "\n",
    "# Calculate accuracy\n",
    "accuracy = accuracy_score(y_test, y_pred)\n",
    "print(\"Accuracy:\", accuracy)\n",
    "\n",
    "# Print classification report\n",
    "print(classification_report(y_test, y_pred))\n",
    "\n",
    "# Get coefficients\n",
    "coefficients = logreg.coef_[0]\n",
    "\n",
    "# Map coefficients to their corresponding feature names\n",
    "feature_coefficients = pd.DataFrame({'Feature': X.columns, 'Coefficient': coefficients})\n",
    "\n",
    "# Sort the features by their coefficients\n",
    "feature_coefficients = feature_coefficients.reindex(feature_coefficients['Coefficient'].abs().sort_values(ascending=False).index)\n",
    "\n",
    "print(\"Feature Coefficients:\")\n",
    "print(feature_coefficients)"
   ]
  },
  {
   "cell_type": "code",
   "execution_count": null,
   "metadata": {},
   "outputs": [],
   "source": [
    "#alternative method using statsmodel\n",
    "import statsmodels.api as sm\n",
    "\n",
    "# Split data into features (X) and target variable (y)\n",
    "X_a = df.drop('converted', axis=1)  # Features\n",
    "y_a = df['converted']  # Target variable\n",
    "\n",
    "# Add intercept term to the independent variables\n",
    "X_a = sm.add_constant(X_a)\n",
    "\n",
    "# Fit logistic regression model\n",
    "logit_model = sm.Logit(y, X)\n",
    "\n",
    "# Obtain the results of the logistic regression\n",
    "logit_result = logit_model.fit()\n",
    "\n",
    "# Print summary of the logistic regression results\n",
    "print(logit_result.summary())"
   ]
  },
  {
   "cell_type": "code",
   "execution_count": null,
   "metadata": {},
   "outputs": [],
   "source": [
    "['converted', \n",
    "'female', 'age_r', 'initial_fee_level','credit_account_id_dummy', \n",
    "'customer_segment_11', 'customer_segment_12','customer_segment_13', \n",
    "'related_customers_0', 'related_customers_1','related_customers_2', 'related_customers_3', 'related_customers_4','related_customers_5', \n",
    "'family_size_0', 'family_size_1','family_size_2', 'family_size_3', 'family_size_4', 'family_size_5', 'family_size_6', \n",
    "'branch_Helsinki', 'branch_Tampere', 'branch_Turku']"
   ]
  },
  {
   "cell_type": "code",
   "execution_count": null,
   "metadata": {},
   "outputs": [],
   "source": [
    "df3=df[[ 'converted', 'female', \n",
    "         'related_customers_0',#'family_size_1','age_r',#  \n",
    "         'customer_segment_11',#'credit_account_id_dummy',#'initial_fee_level',#'credit_account_id_dummy',\n",
    "        'branch_Helsinki']]\n",
    "\n",
    "#alternative method using statsmodel\n",
    "import statsmodels.api as sm\n",
    "import numpy as np\n",
    "\n",
    "# Split data into features (X) and target variable (y)\n",
    "X_a = df3.drop('converted', axis=1)  # Features\n",
    "y_a = df3['converted']  # Target variable\n",
    "\n",
    "# Fit logistic regression model\n",
    "logit_model = sm.Logit(y_a, X_a)\n",
    "\n",
    "# Obtain the results of the logistic regression\n",
    "logit_result = logit_model.fit()\n",
    "\n",
    "# Print summary of the logistic regression results\n",
    "print(logit_result.summary())\n",
    "\n",
    "odds_ratios = np.exp(logit_result.params)\n",
    "conf_intervals = np.exp(logit_result.conf_int())\n",
    "\n",
    "# Create a DataFrame to display the odds ratios and their confidence intervals\n",
    "odds_ratios_df = pd.DataFrame({'Odds Ratio': odds_ratios, '95% CI Lower': conf_intervals[0], '95% CI Upper': conf_intervals[1]})\n",
    "print(odds_ratios_df)"
   ]
  },
  {
   "cell_type": "markdown",
   "metadata": {},
   "source": [
    "Results:\n",
    "\n",
    "gender and age are significant (female have almost 12 time higher effect than male). the younger the better (2% for each year) \n",
    "\n",
    "initial fee level has a very small, but  positive and significant effect on the conversion. it increases a lot in segment 11 (and therefoe when dumy credit account is 0)\n",
    "\n",
    "Customer segment 11 seems to increase the convertion rate significantly (+28% on seg_12 and + 74% on seg_13). by itself it increase by 1.8 times\n",
    "\n",
    "related customer 0 is decrease the probability to convert compared to related_customer_5 (-47%). none of the other is significant\n",
    "\n",
    "Family size 2 seems to have a mildly significant increase compared to family size 0. (1.8 times)\n",
    "\n",
    "Helsinki decrease the probability of conversion by 50% compared to Tampere and Turku. \n"
   ]
  },
  {
   "cell_type": "code",
   "execution_count": null,
   "metadata": {},
   "outputs": [],
   "source": [
    "data_clean.groupby('customer_segment')['initial_fee_level'].mean()"
   ]
  },
  {
   "cell_type": "code",
   "execution_count": null,
   "metadata": {},
   "outputs": [],
   "source": []
  }
 ],
 "metadata": {
  "kernelspec": {
   "display_name": "base",
   "language": "python",
   "name": "python3"
  },
  "language_info": {
   "codemirror_mode": {
    "name": "ipython",
    "version": 3
   },
   "file_extension": ".py",
   "mimetype": "text/x-python",
   "name": "python",
   "nbconvert_exporter": "python",
   "pygments_lexer": "ipython3",
   "version": "3.9.12"
  }
 },
 "nbformat": 4,
 "nbformat_minor": 2
}
